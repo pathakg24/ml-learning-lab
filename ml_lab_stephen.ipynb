{
 "cells": [
  {
   "cell_type": "code",
   "execution_count": 8,
   "metadata": {},
   "outputs": [],
   "source": [
    "import pandas as pd\n",
    "\n",
    "orders = pd.read_csv('./data/Orders.csv')\n",
    "\n",
    "pd.set_option('display.max_columns', None)"
   ]
  },
  {
   "cell_type": "code",
   "execution_count": 9,
   "metadata": {},
   "outputs": [
    {
     "data": {
      "text/plain": [
       "(51290, 24)"
      ]
     },
     "execution_count": 9,
     "metadata": {},
     "output_type": "execute_result"
    }
   ],
   "source": [
    "orders.shape"
   ]
  },
  {
   "cell_type": "code",
   "execution_count": 10,
   "metadata": {},
   "outputs": [],
   "source": [
    "orders.Profit = orders.Profit.replace('[\\$,]', '', regex=True).astype(float)\n",
    "orders.Sales = orders.Sales.replace('[\\$,]', '', regex=True).astype(float)"
   ]
  },
  {
   "cell_type": "code",
   "execution_count": 11,
   "metadata": {},
   "outputs": [
    {
     "data": {
      "text/html": [
       "<div>\n",
       "<style scoped>\n",
       "    .dataframe tbody tr th:only-of-type {\n",
       "        vertical-align: middle;\n",
       "    }\n",
       "\n",
       "    .dataframe tbody tr th {\n",
       "        vertical-align: top;\n",
       "    }\n",
       "\n",
       "    .dataframe thead th {\n",
       "        text-align: right;\n",
       "    }\n",
       "</style>\n",
       "<table border=\"1\" class=\"dataframe\">\n",
       "  <thead>\n",
       "    <tr style=\"text-align: right;\">\n",
       "      <th></th>\n",
       "      <th>Row.ID</th>\n",
       "      <th>Order.ID</th>\n",
       "      <th>Order.Date</th>\n",
       "      <th>Ship.Date</th>\n",
       "      <th>Ship.Mode</th>\n",
       "      <th>Customer.ID</th>\n",
       "      <th>Customer.Name</th>\n",
       "      <th>Segment</th>\n",
       "      <th>Postal.Code</th>\n",
       "      <th>City</th>\n",
       "      <th>State</th>\n",
       "      <th>Country</th>\n",
       "      <th>Region</th>\n",
       "      <th>Market</th>\n",
       "      <th>Product.ID</th>\n",
       "      <th>Category</th>\n",
       "      <th>Sub.Category</th>\n",
       "      <th>Product.Name</th>\n",
       "      <th>Sales</th>\n",
       "      <th>Quantity</th>\n",
       "      <th>Discount</th>\n",
       "      <th>Profit</th>\n",
       "      <th>Shipping.Cost</th>\n",
       "      <th>Order.Priority</th>\n",
       "    </tr>\n",
       "  </thead>\n",
       "  <tbody>\n",
       "    <tr>\n",
       "      <th>22133</th>\n",
       "      <td>8168</td>\n",
       "      <td>MX-2013-EC1405018-41599</td>\n",
       "      <td>11/21/13</td>\n",
       "      <td>11/23/13</td>\n",
       "      <td>Second Class</td>\n",
       "      <td>EC-1405018</td>\n",
       "      <td>Erin Creighton</td>\n",
       "      <td>Consumer</td>\n",
       "      <td>NaN</td>\n",
       "      <td>Brasília</td>\n",
       "      <td>Federal District</td>\n",
       "      <td>Brazil</td>\n",
       "      <td>South America</td>\n",
       "      <td>LATAM</td>\n",
       "      <td>OFF-FA-5472</td>\n",
       "      <td>Office Supplies</td>\n",
       "      <td>Fasteners</td>\n",
       "      <td>OIC Push Pins, Assorted Sizes</td>\n",
       "      <td>32.96</td>\n",
       "      <td>4</td>\n",
       "      <td>0.0</td>\n",
       "      <td>1.60</td>\n",
       "      <td>10.438</td>\n",
       "      <td>Critical</td>\n",
       "    </tr>\n",
       "    <tr>\n",
       "      <th>14558</th>\n",
       "      <td>15864</td>\n",
       "      <td>ES-2015-ZC21910139-42366</td>\n",
       "      <td>12/28/15</td>\n",
       "      <td>12/31/15</td>\n",
       "      <td>First Class</td>\n",
       "      <td>ZC-21910139</td>\n",
       "      <td>Zuschuss Carroll</td>\n",
       "      <td>Consumer</td>\n",
       "      <td>NaN</td>\n",
       "      <td>Wolverhampton</td>\n",
       "      <td>England</td>\n",
       "      <td>United Kingdom</td>\n",
       "      <td>Northern Europe</td>\n",
       "      <td>Europe</td>\n",
       "      <td>OFF-EN-3105</td>\n",
       "      <td>Office Supplies</td>\n",
       "      <td>Envelopes</td>\n",
       "      <td>Ames Manila Envelope, Security-Tint</td>\n",
       "      <td>135.45</td>\n",
       "      <td>5</td>\n",
       "      <td>0.0</td>\n",
       "      <td>54.15</td>\n",
       "      <td>20.550</td>\n",
       "      <td>Medium</td>\n",
       "    </tr>\n",
       "    <tr>\n",
       "      <th>20172</th>\n",
       "      <td>28518</td>\n",
       "      <td>ID-2015-ST205307-42336</td>\n",
       "      <td>11/28/15</td>\n",
       "      <td>12/5/15</td>\n",
       "      <td>Standard Class</td>\n",
       "      <td>ST-205307</td>\n",
       "      <td>Shui Tom</td>\n",
       "      <td>Consumer</td>\n",
       "      <td>NaN</td>\n",
       "      <td>Bundaberg</td>\n",
       "      <td>Queensland</td>\n",
       "      <td>Australia</td>\n",
       "      <td>Oceania</td>\n",
       "      <td>Asia Pacific</td>\n",
       "      <td>FUR-FU-3928</td>\n",
       "      <td>Furniture</td>\n",
       "      <td>Furnishings</td>\n",
       "      <td>Deflect-O Clock, Black</td>\n",
       "      <td>90.56</td>\n",
       "      <td>2</td>\n",
       "      <td>0.1</td>\n",
       "      <td>-3.04</td>\n",
       "      <td>12.320</td>\n",
       "      <td>Low</td>\n",
       "    </tr>\n",
       "    <tr>\n",
       "      <th>23105</th>\n",
       "      <td>27003</td>\n",
       "      <td>IN-2014-BP1118527-41648</td>\n",
       "      <td>1/9/14</td>\n",
       "      <td>1/14/14</td>\n",
       "      <td>Standard Class</td>\n",
       "      <td>BP-1118527</td>\n",
       "      <td>Ben Peterman</td>\n",
       "      <td>Corporate</td>\n",
       "      <td>NaN</td>\n",
       "      <td>Jining</td>\n",
       "      <td>Shandong</td>\n",
       "      <td>China</td>\n",
       "      <td>Eastern Asia</td>\n",
       "      <td>Asia Pacific</td>\n",
       "      <td>OFF-EN-4443</td>\n",
       "      <td>Office Supplies</td>\n",
       "      <td>Envelopes</td>\n",
       "      <td>GlobeWeis Mailers, Recycled</td>\n",
       "      <td>74.70</td>\n",
       "      <td>2</td>\n",
       "      <td>0.0</td>\n",
       "      <td>33.60</td>\n",
       "      <td>9.590</td>\n",
       "      <td>High</td>\n",
       "    </tr>\n",
       "    <tr>\n",
       "      <th>32620</th>\n",
       "      <td>9342</td>\n",
       "      <td>MX-2013-AF1087051-41489</td>\n",
       "      <td>8/3/13</td>\n",
       "      <td>8/9/13</td>\n",
       "      <td>Standard Class</td>\n",
       "      <td>AF-1087051</td>\n",
       "      <td>Art Ferguson</td>\n",
       "      <td>Consumer</td>\n",
       "      <td>NaN</td>\n",
       "      <td>Mixco</td>\n",
       "      <td>Guatemala</td>\n",
       "      <td>Guatemala</td>\n",
       "      <td>Central America</td>\n",
       "      <td>LATAM</td>\n",
       "      <td>FUR-BO-3894</td>\n",
       "      <td>Furniture</td>\n",
       "      <td>Bookcases</td>\n",
       "      <td>Dania Corner Shelving, Mobile</td>\n",
       "      <td>166.12</td>\n",
       "      <td>2</td>\n",
       "      <td>0.0</td>\n",
       "      <td>44.84</td>\n",
       "      <td>4.418</td>\n",
       "      <td>Medium</td>\n",
       "    </tr>\n",
       "  </tbody>\n",
       "</table>\n",
       "</div>"
      ],
      "text/plain": [
       "       Row.ID                  Order.ID Order.Date Ship.Date       Ship.Mode  \\\n",
       "22133    8168   MX-2013-EC1405018-41599   11/21/13  11/23/13    Second Class   \n",
       "14558   15864  ES-2015-ZC21910139-42366   12/28/15  12/31/15     First Class   \n",
       "20172   28518    ID-2015-ST205307-42336   11/28/15   12/5/15  Standard Class   \n",
       "23105   27003   IN-2014-BP1118527-41648     1/9/14   1/14/14  Standard Class   \n",
       "32620    9342   MX-2013-AF1087051-41489     8/3/13    8/9/13  Standard Class   \n",
       "\n",
       "       Customer.ID     Customer.Name    Segment  Postal.Code           City  \\\n",
       "22133   EC-1405018    Erin Creighton   Consumer          NaN       Brasília   \n",
       "14558  ZC-21910139  Zuschuss Carroll   Consumer          NaN  Wolverhampton   \n",
       "20172    ST-205307          Shui Tom   Consumer          NaN      Bundaberg   \n",
       "23105   BP-1118527      Ben Peterman  Corporate          NaN         Jining   \n",
       "32620   AF-1087051      Art Ferguson   Consumer          NaN          Mixco   \n",
       "\n",
       "                  State         Country           Region        Market  \\\n",
       "22133  Federal District          Brazil    South America         LATAM   \n",
       "14558           England  United Kingdom  Northern Europe        Europe   \n",
       "20172        Queensland       Australia          Oceania  Asia Pacific   \n",
       "23105          Shandong           China     Eastern Asia  Asia Pacific   \n",
       "32620         Guatemala       Guatemala  Central America         LATAM   \n",
       "\n",
       "        Product.ID         Category Sub.Category  \\\n",
       "22133  OFF-FA-5472  Office Supplies    Fasteners   \n",
       "14558  OFF-EN-3105  Office Supplies    Envelopes   \n",
       "20172  FUR-FU-3928        Furniture  Furnishings   \n",
       "23105  OFF-EN-4443  Office Supplies    Envelopes   \n",
       "32620  FUR-BO-3894        Furniture    Bookcases   \n",
       "\n",
       "                              Product.Name   Sales  Quantity  Discount  \\\n",
       "22133        OIC Push Pins, Assorted Sizes   32.96         4       0.0   \n",
       "14558  Ames Manila Envelope, Security-Tint  135.45         5       0.0   \n",
       "20172               Deflect-O Clock, Black   90.56         2       0.1   \n",
       "23105          GlobeWeis Mailers, Recycled   74.70         2       0.0   \n",
       "32620        Dania Corner Shelving, Mobile  166.12         2       0.0   \n",
       "\n",
       "       Profit  Shipping.Cost Order.Priority  \n",
       "22133    1.60         10.438       Critical  \n",
       "14558   54.15         20.550         Medium  \n",
       "20172   -3.04         12.320            Low  \n",
       "23105   33.60          9.590           High  \n",
       "32620   44.84          4.418         Medium  "
      ]
     },
     "execution_count": 11,
     "metadata": {},
     "output_type": "execute_result"
    }
   ],
   "source": [
    "orders.sample(5)"
   ]
  },
  {
   "cell_type": "code",
   "execution_count": 12,
   "metadata": {},
   "outputs": [],
   "source": [
    "orders['Month'] = pd.DatetimeIndex(orders['Order.Date']).month"
   ]
  },
  {
   "cell_type": "code",
   "execution_count": 32,
   "metadata": {},
   "outputs": [],
   "source": [
    "def month_to_season(month):\n",
    "  if month in [3,4,5]:\n",
    "    month = '1_Spring'\n",
    "  elif month in [6,7,8]:\n",
    "    month = '2_Summer'\n",
    "  elif month in [9,10,11]:\n",
    "    month = '3_Fall'\n",
    "  else:\n",
    "    month = '4_Winter'\n",
    "  return(month)"
   ]
  },
  {
   "cell_type": "code",
   "execution_count": 33,
   "metadata": {},
   "outputs": [],
   "source": [
    "orders['Season'] = orders.Month.apply(month_to_season)"
   ]
  },
  {
   "cell_type": "code",
   "execution_count": 34,
   "metadata": {},
   "outputs": [
    {
     "data": {
      "text/html": [
       "<div>\n",
       "<style scoped>\n",
       "    .dataframe tbody tr th:only-of-type {\n",
       "        vertical-align: middle;\n",
       "    }\n",
       "\n",
       "    .dataframe tbody tr th {\n",
       "        vertical-align: top;\n",
       "    }\n",
       "\n",
       "    .dataframe thead th {\n",
       "        text-align: right;\n",
       "    }\n",
       "</style>\n",
       "<table border=\"1\" class=\"dataframe\">\n",
       "  <thead>\n",
       "    <tr style=\"text-align: right;\">\n",
       "      <th></th>\n",
       "      <th>Row.ID</th>\n",
       "      <th>Order.ID</th>\n",
       "      <th>Order.Date</th>\n",
       "      <th>Ship.Date</th>\n",
       "      <th>Ship.Mode</th>\n",
       "      <th>Customer.ID</th>\n",
       "      <th>Customer.Name</th>\n",
       "      <th>Segment</th>\n",
       "      <th>Postal.Code</th>\n",
       "      <th>City</th>\n",
       "      <th>State</th>\n",
       "      <th>Country</th>\n",
       "      <th>Region</th>\n",
       "      <th>Market</th>\n",
       "      <th>Product.ID</th>\n",
       "      <th>Category</th>\n",
       "      <th>Sub.Category</th>\n",
       "      <th>Product.Name</th>\n",
       "      <th>Sales</th>\n",
       "      <th>Quantity</th>\n",
       "      <th>Discount</th>\n",
       "      <th>Profit</th>\n",
       "      <th>Shipping.Cost</th>\n",
       "      <th>Order.Priority</th>\n",
       "      <th>Month</th>\n",
       "      <th>Season</th>\n",
       "    </tr>\n",
       "  </thead>\n",
       "  <tbody>\n",
       "    <tr>\n",
       "      <th>21664</th>\n",
       "      <td>29684</td>\n",
       "      <td>ID-2015-NR18550102-42078</td>\n",
       "      <td>3/15/15</td>\n",
       "      <td>3/21/15</td>\n",
       "      <td>Standard Class</td>\n",
       "      <td>NR-18550102</td>\n",
       "      <td>Nick Radford</td>\n",
       "      <td>Consumer</td>\n",
       "      <td>NaN</td>\n",
       "      <td>Makati</td>\n",
       "      <td>National Capital</td>\n",
       "      <td>Philippines</td>\n",
       "      <td>Southeastern Asia</td>\n",
       "      <td>Asia Pacific</td>\n",
       "      <td>OFF-BI-2899</td>\n",
       "      <td>Office Supplies</td>\n",
       "      <td>Binders</td>\n",
       "      <td>Acco Binding Machine, Clear</td>\n",
       "      <td>128.90</td>\n",
       "      <td>3</td>\n",
       "      <td>0.15</td>\n",
       "      <td>30.26</td>\n",
       "      <td>10.85</td>\n",
       "      <td>Medium</td>\n",
       "      <td>3</td>\n",
       "      <td>1_Spring</td>\n",
       "    </tr>\n",
       "    <tr>\n",
       "      <th>32057</th>\n",
       "      <td>43169</td>\n",
       "      <td>EG-2015-LS694538-42024</td>\n",
       "      <td>1/20/15</td>\n",
       "      <td>1/22/15</td>\n",
       "      <td>First Class</td>\n",
       "      <td>LS-694538</td>\n",
       "      <td>Linda Southworth</td>\n",
       "      <td>Corporate</td>\n",
       "      <td>NaN</td>\n",
       "      <td>Alexandria</td>\n",
       "      <td>Al Iskandariyah</td>\n",
       "      <td>Egypt</td>\n",
       "      <td>North Africa</td>\n",
       "      <td>Africa</td>\n",
       "      <td>OFF-PA-4182</td>\n",
       "      <td>Office Supplies</td>\n",
       "      <td>Paper</td>\n",
       "      <td>Enermax Parchment Paper, Multicolor</td>\n",
       "      <td>16.80</td>\n",
       "      <td>1</td>\n",
       "      <td>0.00</td>\n",
       "      <td>5.04</td>\n",
       "      <td>4.63</td>\n",
       "      <td>High</td>\n",
       "      <td>1</td>\n",
       "      <td>4_Winter</td>\n",
       "    </tr>\n",
       "    <tr>\n",
       "      <th>11658</th>\n",
       "      <td>46372</td>\n",
       "      <td>UP-2014-EM3810137-41979</td>\n",
       "      <td>12/6/14</td>\n",
       "      <td>12/12/14</td>\n",
       "      <td>Standard Class</td>\n",
       "      <td>EM-3810137</td>\n",
       "      <td>Eleni McCrary</td>\n",
       "      <td>Corporate</td>\n",
       "      <td>NaN</td>\n",
       "      <td>Nizhyn</td>\n",
       "      <td>Chernihiv</td>\n",
       "      <td>Ukraine</td>\n",
       "      <td>Eastern Europe</td>\n",
       "      <td>Europe</td>\n",
       "      <td>FUR-FU-4065</td>\n",
       "      <td>Furniture</td>\n",
       "      <td>Furnishings</td>\n",
       "      <td>Eldon Frame, Duo Pack</td>\n",
       "      <td>465.24</td>\n",
       "      <td>4</td>\n",
       "      <td>0.00</td>\n",
       "      <td>209.28</td>\n",
       "      <td>27.55</td>\n",
       "      <td>Medium</td>\n",
       "      <td>12</td>\n",
       "      <td>4_Winter</td>\n",
       "    </tr>\n",
       "    <tr>\n",
       "      <th>12975</th>\n",
       "      <td>18988</td>\n",
       "      <td>ES-2014-SS208758-41683</td>\n",
       "      <td>2/13/14</td>\n",
       "      <td>2/19/14</td>\n",
       "      <td>Standard Class</td>\n",
       "      <td>SS-208758</td>\n",
       "      <td>Sung Shariari</td>\n",
       "      <td>Consumer</td>\n",
       "      <td>NaN</td>\n",
       "      <td>Vienna</td>\n",
       "      <td>Vienna</td>\n",
       "      <td>Austria</td>\n",
       "      <td>Western Europe</td>\n",
       "      <td>Europe</td>\n",
       "      <td>OFF-BI-6382</td>\n",
       "      <td>Office Supplies</td>\n",
       "      <td>Binders</td>\n",
       "      <td>Wilson Jones Binding Machine, Clear</td>\n",
       "      <td>338.94</td>\n",
       "      <td>7</td>\n",
       "      <td>0.00</td>\n",
       "      <td>101.64</td>\n",
       "      <td>24.06</td>\n",
       "      <td>Medium</td>\n",
       "      <td>2</td>\n",
       "      <td>4_Winter</td>\n",
       "    </tr>\n",
       "    <tr>\n",
       "      <th>43775</th>\n",
       "      <td>22362</td>\n",
       "      <td>IN-2015-SB2017088-42336</td>\n",
       "      <td>11/28/15</td>\n",
       "      <td>12/2/15</td>\n",
       "      <td>Standard Class</td>\n",
       "      <td>SB-2017088</td>\n",
       "      <td>Sarah Bern</td>\n",
       "      <td>Consumer</td>\n",
       "      <td>NaN</td>\n",
       "      <td>Yangon</td>\n",
       "      <td>Yangon</td>\n",
       "      <td>Myanmar (Burma)</td>\n",
       "      <td>Southeastern Asia</td>\n",
       "      <td>Asia Pacific</td>\n",
       "      <td>OFF-BI-4810</td>\n",
       "      <td>Office Supplies</td>\n",
       "      <td>Binders</td>\n",
       "      <td>Ibico Binder Covers, Recycled</td>\n",
       "      <td>11.63</td>\n",
       "      <td>1</td>\n",
       "      <td>0.17</td>\n",
       "      <td>-1.84</td>\n",
       "      <td>1.79</td>\n",
       "      <td>Medium</td>\n",
       "      <td>11</td>\n",
       "      <td>3_Fall</td>\n",
       "    </tr>\n",
       "  </tbody>\n",
       "</table>\n",
       "</div>"
      ],
      "text/plain": [
       "       Row.ID                  Order.ID Order.Date Ship.Date       Ship.Mode  \\\n",
       "21664   29684  ID-2015-NR18550102-42078    3/15/15   3/21/15  Standard Class   \n",
       "32057   43169    EG-2015-LS694538-42024    1/20/15   1/22/15     First Class   \n",
       "11658   46372   UP-2014-EM3810137-41979    12/6/14  12/12/14  Standard Class   \n",
       "12975   18988    ES-2014-SS208758-41683    2/13/14   2/19/14  Standard Class   \n",
       "43775   22362   IN-2015-SB2017088-42336   11/28/15   12/2/15  Standard Class   \n",
       "\n",
       "       Customer.ID     Customer.Name    Segment  Postal.Code        City  \\\n",
       "21664  NR-18550102      Nick Radford   Consumer          NaN      Makati   \n",
       "32057    LS-694538  Linda Southworth  Corporate          NaN  Alexandria   \n",
       "11658   EM-3810137     Eleni McCrary  Corporate          NaN      Nizhyn   \n",
       "12975    SS-208758     Sung Shariari   Consumer          NaN      Vienna   \n",
       "43775   SB-2017088        Sarah Bern   Consumer          NaN      Yangon   \n",
       "\n",
       "                  State          Country             Region        Market  \\\n",
       "21664  National Capital      Philippines  Southeastern Asia  Asia Pacific   \n",
       "32057   Al Iskandariyah            Egypt       North Africa        Africa   \n",
       "11658         Chernihiv          Ukraine     Eastern Europe        Europe   \n",
       "12975            Vienna          Austria     Western Europe        Europe   \n",
       "43775            Yangon  Myanmar (Burma)  Southeastern Asia  Asia Pacific   \n",
       "\n",
       "        Product.ID         Category Sub.Category  \\\n",
       "21664  OFF-BI-2899  Office Supplies      Binders   \n",
       "32057  OFF-PA-4182  Office Supplies        Paper   \n",
       "11658  FUR-FU-4065        Furniture  Furnishings   \n",
       "12975  OFF-BI-6382  Office Supplies      Binders   \n",
       "43775  OFF-BI-4810  Office Supplies      Binders   \n",
       "\n",
       "                              Product.Name   Sales  Quantity  Discount  \\\n",
       "21664          Acco Binding Machine, Clear  128.90         3      0.15   \n",
       "32057  Enermax Parchment Paper, Multicolor   16.80         1      0.00   \n",
       "11658                Eldon Frame, Duo Pack  465.24         4      0.00   \n",
       "12975  Wilson Jones Binding Machine, Clear  338.94         7      0.00   \n",
       "43775        Ibico Binder Covers, Recycled   11.63         1      0.17   \n",
       "\n",
       "       Profit  Shipping.Cost Order.Priority  Month    Season  \n",
       "21664   30.26          10.85         Medium      3  1_Spring  \n",
       "32057    5.04           4.63           High      1  4_Winter  \n",
       "11658  209.28          27.55         Medium     12  4_Winter  \n",
       "12975  101.64          24.06         Medium      2  4_Winter  \n",
       "43775   -1.84           1.79         Medium     11    3_Fall  "
      ]
     },
     "execution_count": 34,
     "metadata": {},
     "output_type": "execute_result"
    }
   ],
   "source": [
    "orders.sample(5)"
   ]
  },
  {
   "cell_type": "code",
   "execution_count": 42,
   "metadata": {},
   "outputs": [
    {
     "data": {
      "text/html": [
       "<div>\n",
       "<style scoped>\n",
       "    .dataframe tbody tr th:only-of-type {\n",
       "        vertical-align: middle;\n",
       "    }\n",
       "\n",
       "    .dataframe tbody tr th {\n",
       "        vertical-align: top;\n",
       "    }\n",
       "\n",
       "    .dataframe thead th {\n",
       "        text-align: right;\n",
       "    }\n",
       "</style>\n",
       "<table border=\"1\" class=\"dataframe\">\n",
       "  <thead>\n",
       "    <tr style=\"text-align: right;\">\n",
       "      <th></th>\n",
       "      <th>Category</th>\n",
       "      <th>Row.ID</th>\n",
       "      <th>Profit</th>\n",
       "    </tr>\n",
       "    <tr>\n",
       "      <th>Season</th>\n",
       "      <th></th>\n",
       "      <th></th>\n",
       "      <th></th>\n",
       "    </tr>\n",
       "  </thead>\n",
       "  <tbody>\n",
       "    <tr>\n",
       "      <th>1_Spring</th>\n",
       "      <td>Furniture</td>\n",
       "      <td>1856</td>\n",
       "      <td>41635.46</td>\n",
       "    </tr>\n",
       "    <tr>\n",
       "      <th>1_Spring</th>\n",
       "      <td>Office Supplies</td>\n",
       "      <td>6054</td>\n",
       "      <td>104256.93</td>\n",
       "    </tr>\n",
       "    <tr>\n",
       "      <th>1_Spring</th>\n",
       "      <td>Technology</td>\n",
       "      <td>1916</td>\n",
       "      <td>126773.70</td>\n",
       "    </tr>\n",
       "    <tr>\n",
       "      <th>2_Summer</th>\n",
       "      <td>Furniture</td>\n",
       "      <td>2488</td>\n",
       "      <td>63350.29</td>\n",
       "    </tr>\n",
       "    <tr>\n",
       "      <th>2_Summer</th>\n",
       "      <td>Office Supplies</td>\n",
       "      <td>8381</td>\n",
       "      <td>136797.00</td>\n",
       "    </tr>\n",
       "    <tr>\n",
       "      <th>2_Summer</th>\n",
       "      <td>Technology</td>\n",
       "      <td>2693</td>\n",
       "      <td>175576.04</td>\n",
       "    </tr>\n",
       "    <tr>\n",
       "      <th>3_Fall</th>\n",
       "      <td>Furniture</td>\n",
       "      <td>3347</td>\n",
       "      <td>113388.94</td>\n",
       "    </tr>\n",
       "    <tr>\n",
       "      <th>3_Fall</th>\n",
       "      <td>Office Supplies</td>\n",
       "      <td>10170</td>\n",
       "      <td>163654.58</td>\n",
       "    </tr>\n",
       "    <tr>\n",
       "      <th>3_Fall</th>\n",
       "      <td>Technology</td>\n",
       "      <td>3308</td>\n",
       "      <td>227549.67</td>\n",
       "    </tr>\n",
       "    <tr>\n",
       "      <th>4_Winter</th>\n",
       "      <td>Furniture</td>\n",
       "      <td>2169</td>\n",
       "      <td>66707.93</td>\n",
       "    </tr>\n",
       "    <tr>\n",
       "      <th>4_Winter</th>\n",
       "      <td>Office Supplies</td>\n",
       "      <td>6684</td>\n",
       "      <td>113886.33</td>\n",
       "    </tr>\n",
       "    <tr>\n",
       "      <th>4_Winter</th>\n",
       "      <td>Technology</td>\n",
       "      <td>2224</td>\n",
       "      <td>133879.80</td>\n",
       "    </tr>\n",
       "  </tbody>\n",
       "</table>\n",
       "</div>"
      ],
      "text/plain": [
       "                 Category  Row.ID     Profit\n",
       "Season                                      \n",
       "1_Spring        Furniture    1856   41635.46\n",
       "1_Spring  Office Supplies    6054  104256.93\n",
       "1_Spring       Technology    1916  126773.70\n",
       "2_Summer        Furniture    2488   63350.29\n",
       "2_Summer  Office Supplies    8381  136797.00\n",
       "2_Summer       Technology    2693  175576.04\n",
       "3_Fall          Furniture    3347  113388.94\n",
       "3_Fall    Office Supplies   10170  163654.58\n",
       "3_Fall         Technology    3308  227549.67\n",
       "4_Winter        Furniture    2169   66707.93\n",
       "4_Winter  Office Supplies    6684  113886.33\n",
       "4_Winter       Technology    2224  133879.80"
      ]
     },
     "execution_count": 42,
     "metadata": {},
     "output_type": "execute_result"
    }
   ],
   "source": [
    "season_category = orders.groupby(['Season','Category']).agg({'Row.ID':'count', 'Profit':'sum'})\n",
    "season_category = season_category.reset_index()\n",
    "season_category = season_category.set_index('Season')\n",
    "season_category.sort_values(by=['Season'], axis=0)"
   ]
  },
  {
   "cell_type": "code",
   "execution_count": 43,
   "metadata": {},
   "outputs": [
    {
     "data": {
      "text/plain": [
       "<matplotlib.axes._subplots.AxesSubplot at 0x2106445d108>"
      ]
     },
     "execution_count": 43,
     "metadata": {},
     "output_type": "execute_result"
    },
    {
     "data": {
      "image/png": "[encoded data removed]",
      "text/plain": [
       "<Figure size 432x288 with 1 Axes>"
      ]
     },
     "metadata": {
      "needs_background": "light"
     },
     "output_type": "display_data"
    }
   ],
   "source": [
    "season_category[season_category.Category =='Furniture'].plot.bar()"
   ]
  },
  {
   "cell_type": "code",
   "execution_count": 44,
   "metadata": {},
   "outputs": [
    {
     "data": {
      "text/plain": [
       "<matplotlib.axes._subplots.AxesSubplot at 0x21064490488>"
      ]
     },
     "execution_count": 44,
     "metadata": {},
     "output_type": "execute_result"
    },
    {
     "data": {
      "image/png": "[encoded data removed]",
      "text/plain": [
       "<Figure size 432x288 with 1 Axes>"
      ]
     },
     "metadata": {
      "needs_background": "light"
     },
     "output_type": "display_data"
    }
   ],
   "source": [
    "season_category[season_category.Category =='Office Supplies'].plot.bar()"
   ]
  },
  {
   "cell_type": "code",
   "execution_count": 45,
   "metadata": {},
   "outputs": [
    {
     "data": {
      "text/plain": [
       "<matplotlib.axes._subplots.AxesSubplot at 0x210644e4fc8>"
      ]
     },
     "execution_count": 45,
     "metadata": {},
     "output_type": "execute_result"
    },
    {
     "data": {
      "image/png": "[encoded data removed]",
      "text/plain": [
       "<Figure size 432x288 with 1 Axes>"
      ]
     },
     "metadata": {
      "needs_background": "light"
     },
     "output_type": "display_data"
    }
   ],
   "source": [
    "season_category[season_category.Category =='Technology'].plot.bar()"
   ]
  },
  {
   "cell_type": "markdown",
   "metadata": {},
   "source": [
    "Furniture category had a slight drop in sales in spring and summer, but overall all categories followed a similar trend from overall (Winter < Spring < Summer < Fall)"
   ]
  },
  {
   "cell_type": "markdown",
   "metadata": {},
   "source": [
    "### Problem 3: Why did customers make returns?\n",
    "- Your manager required you to give a brief report (**Plots + Interpretations**) on returned orders.\n",
    "\n",
    "\t1. How much profit did we lose due to returns each year?\n",
    "\n",
    "\t2. How many customer returned more than once? more than 5 times?\n",
    "\n",
    "\t3. Which regions are more likely to return orders?\n",
    "\n",
    "\t4. Which categories (sub-categories) of products are more likely to be returned?\n",
    "\n",
    "- ***Hint:*** Merge the **Returns** dataframe with the **Orders** dataframe using `Order.ID`."
   ]
  },
  {
   "cell_type": "code",
   "execution_count": 47,
   "metadata": {},
   "outputs": [],
   "source": [
    "# how much profit did we lose? -> sum the price column in returns"
   ]
  },
  {
   "cell_type": "code",
   "execution_count": 48,
   "metadata": {},
   "outputs": [
    {
     "data": {
      "text/plain": [
       "(1079, 3)"
      ]
     },
     "execution_count": 48,
     "metadata": {},
     "output_type": "execute_result"
    }
   ],
   "source": [
    "returns.shape"
   ]
  },
  {
   "cell_type": "code",
   "execution_count": 49,
   "metadata": {},
   "outputs": [
    {
     "data": {
      "text/html": [
       "<div>\n",
       "<style scoped>\n",
       "    .dataframe tbody tr th:only-of-type {\n",
       "        vertical-align: middle;\n",
       "    }\n",
       "\n",
       "    .dataframe tbody tr th {\n",
       "        vertical-align: top;\n",
       "    }\n",
       "\n",
       "    .dataframe thead th {\n",
       "        text-align: right;\n",
       "    }\n",
       "</style>\n",
       "<table border=\"1\" class=\"dataframe\">\n",
       "  <thead>\n",
       "    <tr style=\"text-align: right;\">\n",
       "      <th></th>\n",
       "      <th>Returned</th>\n",
       "      <th>Order ID</th>\n",
       "      <th>Region</th>\n",
       "    </tr>\n",
       "  </thead>\n",
       "  <tbody>\n",
       "    <tr>\n",
       "      <th>95</th>\n",
       "      <td>Yes</td>\n",
       "      <td>IN-2012-TB2152059-41207</td>\n",
       "      <td>Southeastern Asia</td>\n",
       "    </tr>\n",
       "    <tr>\n",
       "      <th>195</th>\n",
       "      <td>Yes</td>\n",
       "      <td>MX-2013-PO1885051-41338</td>\n",
       "      <td>Central America</td>\n",
       "    </tr>\n",
       "    <tr>\n",
       "      <th>936</th>\n",
       "      <td>Yes</td>\n",
       "      <td>IT-2013-BW11065139-41370</td>\n",
       "      <td>Northern Europe</td>\n",
       "    </tr>\n",
       "    <tr>\n",
       "      <th>234</th>\n",
       "      <td>Yes</td>\n",
       "      <td>MX-2012-KT1646518-41017</td>\n",
       "      <td>South America</td>\n",
       "    </tr>\n",
       "    <tr>\n",
       "      <th>767</th>\n",
       "      <td>Yes</td>\n",
       "      <td>IN-2014-IM1507058-41812</td>\n",
       "      <td>Southern Asia</td>\n",
       "    </tr>\n",
       "  </tbody>\n",
       "</table>\n",
       "</div>"
      ],
      "text/plain": [
       "    Returned                  Order ID             Region\n",
       "95       Yes   IN-2012-TB2152059-41207  Southeastern Asia\n",
       "195      Yes   MX-2013-PO1885051-41338    Central America\n",
       "936      Yes  IT-2013-BW11065139-41370    Northern Europe\n",
       "234      Yes   MX-2012-KT1646518-41017      South America\n",
       "767      Yes   IN-2014-IM1507058-41812      Southern Asia"
      ]
     },
     "execution_count": 49,
     "metadata": {},
     "output_type": "execute_result"
    }
   ],
   "source": [
    "returns.sample(5)"
   ]
  },
  {
   "cell_type": "code",
   "execution_count": 58,
   "metadata": {
    "scrolled": true
   },
   "outputs": [
    {
     "data": {
      "text/plain": [
       "array(['Yes'], dtype=object)"
      ]
     },
     "execution_count": 58,
     "metadata": {},
     "output_type": "execute_result"
    }
   ],
   "source": [
    "returns.Returned.unique()"
   ]
  },
  {
   "cell_type": "code",
   "execution_count": 61,
   "metadata": {},
   "outputs": [
    {
     "data": {
      "text/plain": [
       "Index(['Returned', 'Order ID', 'Region'], dtype='object')"
      ]
     },
     "execution_count": 61,
     "metadata": {},
     "output_type": "execute_result"
    }
   ],
   "source": [
    "returns.columns"
   ]
  },
  {
   "cell_type": "code",
   "execution_count": 63,
   "metadata": {
    "scrolled": true
   },
   "outputs": [
    {
     "data": {
      "text/plain": [
       "24962     ID-2013-SC2080059-41380\n",
       "10489    CA-2015-CA12265140-42313\n",
       "49819     US-2015-PR1888055-42116\n",
       "41054     IT-2012-ME1732048-41222\n",
       "23544     MX-2014-VS2182018-41871\n",
       "Name: Order.ID, dtype: object"
      ]
     },
     "execution_count": 63,
     "metadata": {},
     "output_type": "execute_result"
    }
   ],
   "source": [
    "orders['Order.ID'].sample(5)"
   ]
  },
  {
   "cell_type": "code",
   "execution_count": 205,
   "metadata": {},
   "outputs": [
    {
     "data": {
      "text/html": [
       "<div>\n",
       "<style scoped>\n",
       "    .dataframe tbody tr th:only-of-type {\n",
       "        vertical-align: middle;\n",
       "    }\n",
       "\n",
       "    .dataframe tbody tr th {\n",
       "        vertical-align: top;\n",
       "    }\n",
       "\n",
       "    .dataframe thead th {\n",
       "        text-align: right;\n",
       "    }\n",
       "</style>\n",
       "<table border=\"1\" class=\"dataframe\">\n",
       "  <thead>\n",
       "    <tr style=\"text-align: right;\">\n",
       "      <th></th>\n",
       "      <th>Returned</th>\n",
       "      <th>Order ID</th>\n",
       "      <th>Region</th>\n",
       "      <th>Customer.Name</th>\n",
       "      <th>Sub.Category</th>\n",
       "      <th>Sales</th>\n",
       "    </tr>\n",
       "  </thead>\n",
       "  <tbody>\n",
       "    <tr>\n",
       "      <th>0</th>\n",
       "      <td>Yes</td>\n",
       "      <td>CA-2012-SA20830140-41210</td>\n",
       "      <td>Central US</td>\n",
       "      <td>Sue Ann Reed</td>\n",
       "      <td>Phones</td>\n",
       "      <td>2735.95</td>\n",
       "    </tr>\n",
       "    <tr>\n",
       "      <th>1</th>\n",
       "      <td>Yes</td>\n",
       "      <td>IN-2012-PB19210127-41259</td>\n",
       "      <td>Eastern Asia</td>\n",
       "      <td>Phillip Breyer</td>\n",
       "      <td>Tables</td>\n",
       "      <td>1715.16</td>\n",
       "    </tr>\n",
       "    <tr>\n",
       "      <th>2</th>\n",
       "      <td>Yes</td>\n",
       "      <td>IN-2012-PB19210127-41259</td>\n",
       "      <td>Eastern Asia</td>\n",
       "      <td>Phillip Breyer</td>\n",
       "      <td>Bookcases</td>\n",
       "      <td>2197.50</td>\n",
       "    </tr>\n",
       "    <tr>\n",
       "      <th>3</th>\n",
       "      <td>Yes</td>\n",
       "      <td>IN-2012-PB19210127-41259</td>\n",
       "      <td>Eastern Asia</td>\n",
       "      <td>Phillip Breyer</td>\n",
       "      <td>Tables</td>\n",
       "      <td>1356.03</td>\n",
       "    </tr>\n",
       "    <tr>\n",
       "      <th>4</th>\n",
       "      <td>Yes</td>\n",
       "      <td>IN-2012-PB19210127-41259</td>\n",
       "      <td>Eastern Asia</td>\n",
       "      <td>Phillip Breyer</td>\n",
       "      <td>Chairs</td>\n",
       "      <td>882.15</td>\n",
       "    </tr>\n",
       "    <tr>\n",
       "      <th>...</th>\n",
       "      <td>...</td>\n",
       "      <td>...</td>\n",
       "      <td>...</td>\n",
       "      <td>...</td>\n",
       "      <td>...</td>\n",
       "      <td>...</td>\n",
       "    </tr>\n",
       "    <tr>\n",
       "      <th>2215</th>\n",
       "      <td>Yes</td>\n",
       "      <td>IN-2014-DA1345058-41769</td>\n",
       "      <td>Southern Asia</td>\n",
       "      <td>Dianna Arnett</td>\n",
       "      <td>Binders</td>\n",
       "      <td>12.57</td>\n",
       "    </tr>\n",
       "    <tr>\n",
       "      <th>2216</th>\n",
       "      <td>Yes</td>\n",
       "      <td>US-2013-HG14845140-41530</td>\n",
       "      <td>Eastern US</td>\n",
       "      <td>Harry Greene</td>\n",
       "      <td>Binders</td>\n",
       "      <td>2.41</td>\n",
       "    </tr>\n",
       "    <tr>\n",
       "      <th>2217</th>\n",
       "      <td>Yes</td>\n",
       "      <td>US-2013-SJ2021582-41543</td>\n",
       "      <td>Central America</td>\n",
       "      <td>Sarah Jordon</td>\n",
       "      <td>Furnishings</td>\n",
       "      <td>181.12</td>\n",
       "    </tr>\n",
       "    <tr>\n",
       "      <th>2218</th>\n",
       "      <td>Yes</td>\n",
       "      <td>CA-2015-EB13870140-42269</td>\n",
       "      <td>Eastern US</td>\n",
       "      <td>Emily Burns</td>\n",
       "      <td>Binders</td>\n",
       "      <td>1.91</td>\n",
       "    </tr>\n",
       "    <tr>\n",
       "      <th>2219</th>\n",
       "      <td>Yes</td>\n",
       "      <td>EG-2014-PM894038-41846</td>\n",
       "      <td>North Africa</td>\n",
       "      <td>Paul MacIntyre</td>\n",
       "      <td>Art</td>\n",
       "      <td>25.83</td>\n",
       "    </tr>\n",
       "  </tbody>\n",
       "</table>\n",
       "<p>2220 rows × 6 columns</p>\n",
       "</div>"
      ],
      "text/plain": [
       "     Returned                  Order ID           Region   Customer.Name  \\\n",
       "0         Yes  CA-2012-SA20830140-41210       Central US    Sue Ann Reed   \n",
       "1         Yes  IN-2012-PB19210127-41259     Eastern Asia  Phillip Breyer   \n",
       "2         Yes  IN-2012-PB19210127-41259     Eastern Asia  Phillip Breyer   \n",
       "3         Yes  IN-2012-PB19210127-41259     Eastern Asia  Phillip Breyer   \n",
       "4         Yes  IN-2012-PB19210127-41259     Eastern Asia  Phillip Breyer   \n",
       "...       ...                       ...              ...             ...   \n",
       "2215      Yes   IN-2014-DA1345058-41769    Southern Asia   Dianna Arnett   \n",
       "2216      Yes  US-2013-HG14845140-41530       Eastern US    Harry Greene   \n",
       "2217      Yes   US-2013-SJ2021582-41543  Central America    Sarah Jordon   \n",
       "2218      Yes  CA-2015-EB13870140-42269       Eastern US     Emily Burns   \n",
       "2219      Yes    EG-2014-PM894038-41846     North Africa  Paul MacIntyre   \n",
       "\n",
       "     Sub.Category    Sales  \n",
       "0          Phones  2735.95  \n",
       "1          Tables  1715.16  \n",
       "2       Bookcases  2197.50  \n",
       "3          Tables  1356.03  \n",
       "4          Chairs   882.15  \n",
       "...           ...      ...  \n",
       "2215      Binders    12.57  \n",
       "2216      Binders     2.41  \n",
       "2217  Furnishings   181.12  \n",
       "2218      Binders     1.91  \n",
       "2219          Art    25.83  \n",
       "\n",
       "[2220 rows x 6 columns]"
      ]
     },
     "execution_count": 205,
     "metadata": {},
     "output_type": "execute_result"
    }
   ],
   "source": [
    "returns = pd.read_csv('./data/Returns.csv')\n",
    "order_price = orders[['Order.ID', 'Customer.Name', 'Sub.Category', 'Sales']]\n",
    "returns = returns.merge(order_price, how='left', left_on='Order ID', right_on='Order.ID', copy=False)\n",
    "returns = returns.drop(['Order.ID'], axis=1)\n",
    "returns"
   ]
  },
  {
   "cell_type": "code",
   "execution_count": 188,
   "metadata": {},
   "outputs": [
    {
     "name": "stdout",
     "output_type": "stream",
     "text": [
      "The cost of returned sales is $525932.41\n"
     ]
    }
   ],
   "source": [
    "print('The cost of returned sales is $%.2f' % sum(returns.Sales))"
   ]
  },
  {
   "cell_type": "code",
   "execution_count": null,
   "metadata": {},
   "outputs": [],
   "source": [
    "# customers returned more than once -> aggregate customer.name"
   ]
  },
  {
   "cell_type": "code",
   "execution_count": 189,
   "metadata": {},
   "outputs": [
    {
     "name": "stdout",
     "output_type": "stream",
     "text": [
      "The number of people who made a return is 593\n",
      "The number of people who made more than 5 returns is 124\n"
     ]
    }
   ],
   "source": [
    "returned_names = returns.groupby('Customer.Name').agg({'Customer.Name':'count'}).rename_axis(None)\n",
    "print('The number of people who made a return is %i' % returned_names.shape[0])\n",
    "print('The number of people who made more than 5 returns is %i' % sum(returned_names['Customer.Name'] > 5))"
   ]
  },
  {
   "cell_type": "code",
   "execution_count": null,
   "metadata": {},
   "outputs": [],
   "source": [
    "# regions more likely to return -> aggregate region and count"
   ]
  },
  {
   "cell_type": "code",
   "execution_count": 195,
   "metadata": {},
   "outputs": [
    {
     "data": {
      "text/plain": [
       "0       2735.95\n",
       "1       1715.16\n",
       "2       2197.50\n",
       "3       1356.03\n",
       "4        882.15\n",
       "         ...   \n",
       "2215      12.57\n",
       "2216       2.41\n",
       "2217     181.12\n",
       "2218       1.91\n",
       "2219      25.83\n",
       "Name: Sales, Length: 2220, dtype: float64"
      ]
     },
     "execution_count": 195,
     "metadata": {},
     "output_type": "execute_result"
    }
   ],
   "source": [
    "returns.Sales"
   ]
  },
  {
   "cell_type": "code",
   "execution_count": 201,
   "metadata": {},
   "outputs": [
    {
     "name": "stdout",
     "output_type": "stream",
     "text": [
      "The worst areas for returns are:\n"
     ]
    },
    {
     "data": {
      "text/html": [
       "<div>\n",
       "<style scoped>\n",
       "    .dataframe tbody tr th:only-of-type {\n",
       "        vertical-align: middle;\n",
       "    }\n",
       "\n",
       "    .dataframe tbody tr th {\n",
       "        vertical-align: top;\n",
       "    }\n",
       "\n",
       "    .dataframe thead th {\n",
       "        text-align: right;\n",
       "    }\n",
       "</style>\n",
       "<table border=\"1\" class=\"dataframe\">\n",
       "  <thead>\n",
       "    <tr style=\"text-align: right;\">\n",
       "      <th></th>\n",
       "      <th>Sales</th>\n",
       "    </tr>\n",
       "    <tr>\n",
       "      <th>Region</th>\n",
       "      <th></th>\n",
       "    </tr>\n",
       "  </thead>\n",
       "  <tbody>\n",
       "    <tr>\n",
       "      <th>Western Europe</th>\n",
       "      <td>72669.57</td>\n",
       "    </tr>\n",
       "    <tr>\n",
       "      <th>Eastern Asia</th>\n",
       "      <td>47798.05</td>\n",
       "    </tr>\n",
       "    <tr>\n",
       "      <th>Oceania</th>\n",
       "      <td>46943.35</td>\n",
       "    </tr>\n",
       "    <tr>\n",
       "      <th>Central America</th>\n",
       "      <td>44334.78</td>\n",
       "    </tr>\n",
       "    <tr>\n",
       "      <th>Western US</th>\n",
       "      <td>44310.00</td>\n",
       "    </tr>\n",
       "  </tbody>\n",
       "</table>\n",
       "</div>"
      ],
      "text/plain": [
       "                    Sales\n",
       "Region                   \n",
       "Western Europe   72669.57\n",
       "Eastern Asia     47798.05\n",
       "Oceania          46943.35\n",
       "Central America  44334.78\n",
       "Western US       44310.00"
      ]
     },
     "execution_count": 201,
     "metadata": {},
     "output_type": "execute_result"
    }
   ],
   "source": [
    "print('The worst areas for returns are:')\n",
    "returns.groupby('Region').agg({'Sales':'sum'}).sort_values('Sales',ascending=False).head(5)"
   ]
  },
  {
   "cell_type": "code",
   "execution_count": null,
   "metadata": {},
   "outputs": [],
   "source": [
    "# categories most likely to be return -> aggregate count of "
   ]
  },
  {
   "cell_type": "code",
   "execution_count": 206,
   "metadata": {},
   "outputs": [
    {
     "name": "stdout",
     "output_type": "stream",
     "text": [
      "The categories most likely to be returned are:\n"
     ]
    },
    {
     "data": {
      "text/html": [
       "<div>\n",
       "<style scoped>\n",
       "    .dataframe tbody tr th:only-of-type {\n",
       "        vertical-align: middle;\n",
       "    }\n",
       "\n",
       "    .dataframe tbody tr th {\n",
       "        vertical-align: top;\n",
       "    }\n",
       "\n",
       "    .dataframe thead th {\n",
       "        text-align: right;\n",
       "    }\n",
       "</style>\n",
       "<table border=\"1\" class=\"dataframe\">\n",
       "  <thead>\n",
       "    <tr style=\"text-align: right;\">\n",
       "      <th></th>\n",
       "      <th>Sub.Category</th>\n",
       "    </tr>\n",
       "  </thead>\n",
       "  <tbody>\n",
       "    <tr>\n",
       "      <th>Binders</th>\n",
       "      <td>269</td>\n",
       "    </tr>\n",
       "    <tr>\n",
       "      <th>Art</th>\n",
       "      <td>217</td>\n",
       "    </tr>\n",
       "    <tr>\n",
       "      <th>Storage</th>\n",
       "      <td>212</td>\n",
       "    </tr>\n",
       "    <tr>\n",
       "      <th>Paper</th>\n",
       "      <td>150</td>\n",
       "    </tr>\n",
       "    <tr>\n",
       "      <th>Chairs</th>\n",
       "      <td>147</td>\n",
       "    </tr>\n",
       "  </tbody>\n",
       "</table>\n",
       "</div>"
      ],
      "text/plain": [
       "         Sub.Category\n",
       "Binders           269\n",
       "Art               217\n",
       "Storage           212\n",
       "Paper             150\n",
       "Chairs            147"
      ]
     },
     "execution_count": 206,
     "metadata": {},
     "output_type": "execute_result"
    }
   ],
   "source": [
    "returned_categories = returns.groupby('Sub.Category').agg({'Sub.Category': 'count'}).rename_axis(None)\n",
    "print('The categories most likely to be returned are:')\n",
    "returned_categories.sort_values('Sub.Category', ascending=False).head(5)"
   ]
  }
 ],
 "metadata": {
  "kernelspec": {
   "display_name": "Python 3",
   "language": "python",
   "name": "python3"
  },
  "language_info": {
   "codemirror_mode": {
    "name": "ipython",
    "version": 3
   },
   "file_extension": ".py",
   "mimetype": "text/x-python",
   "name": "python",
   "nbconvert_exporter": "python",
   "pygments_lexer": "ipython3",
   "version": "3.7.6"
  }
 },
 "nbformat": 4,
 "nbformat_minor": 4
}
